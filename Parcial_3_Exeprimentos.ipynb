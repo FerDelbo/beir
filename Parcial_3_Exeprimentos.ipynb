{
  "cells": [
    {
      "cell_type": "markdown",
      "metadata": {
        "id": "dljrUkF1Fgsn"
      },
      "source": [
        "# Parcial 3 - Experimentos"
      ]
    },
    {
      "cell_type": "markdown",
      "metadata": {
        "id": "6uAdTLH9Fkkw"
      },
      "source": [
        "## Configurando ambiente de trabalho"
      ]
    },
    {
      "cell_type": "code",
      "execution_count": null,
      "metadata": {
        "colab": {
          "base_uri": "https://localhost:8080/"
        },
        "id": "QU7xRs5IFRcm",
        "outputId": "81bccaa7-ce8c-43d2-ae48-4d55288c1e08"
      },
      "outputs": [
        {
          "name": "stdout",
          "output_type": "stream",
          "text": [
            "fatal: destination path 'beir' already exists and is not an empty directory.\n"
          ]
        }
      ],
      "source": [
        "!git clone https://github.com/FerDelbo/beir.git"
      ]
    },
    {
      "cell_type": "code",
      "execution_count": null,
      "metadata": {
        "colab": {
          "base_uri": "https://localhost:8080/"
        },
        "id": "EPrLPTwcFr4D",
        "outputId": "56278a99-97cc-4e34-956d-ac76734a28f4"
      },
      "outputs": [
        {
          "name": "stdout",
          "output_type": "stream",
          "text": [
            "/content/beir\n",
            "/content/beir\n"
          ]
        }
      ],
      "source": [
        "%cd /content/beir\n",
        "!pwd"
      ]
    },
    {
      "cell_type": "code",
      "execution_count": null,
      "metadata": {
        "id": "6E2_vIsdi9ys"
      },
      "outputs": [],
      "source": [
        "!pip install pyserini faiss-cpu transformers --quiet"
      ]
    },
    {
      "cell_type": "code",
      "execution_count": null,
      "metadata": {
        "colab": {
          "base_uri": "https://localhost:8080/"
        },
        "id": "nOe-5ZI6kgnQ",
        "outputId": "2a5081de-9172-4ad0-d3b4-e2208da5bd02"
      },
      "outputs": [
        {
          "name": "stdout",
          "output_type": "stream",
          "text": [
            "Hit:1 https://cli.github.com/packages stable InRelease\n",
            "Hit:2 https://cloud.r-project.org/bin/linux/ubuntu jammy-cran40/ InRelease\n",
            "Hit:3 https://developer.download.nvidia.com/compute/cuda/repos/ubuntu2204/x86_64  InRelease\n",
            "Hit:4 http://archive.ubuntu.com/ubuntu jammy InRelease\n",
            "Hit:5 http://archive.ubuntu.com/ubuntu jammy-updates InRelease\n",
            "Hit:6 http://security.ubuntu.com/ubuntu jammy-security InRelease\n",
            "Hit:7 http://archive.ubuntu.com/ubuntu jammy-backports InRelease\n",
            "Hit:8 https://r2u.stat.illinois.edu/ubuntu jammy InRelease\n",
            "Hit:9 https://ppa.launchpadcontent.net/deadsnakes/ppa/ubuntu jammy InRelease\n",
            "Hit:10 https://ppa.launchpadcontent.net/graphics-drivers/ppa/ubuntu jammy InRelease\n",
            "Hit:11 https://ppa.launchpadcontent.net/ubuntugis/ppa/ubuntu jammy InRelease\n",
            "Reading package lists...\n",
            "W: Skipping acquire of configured file 'main/source/Sources' as repository 'https://r2u.stat.illinois.edu/ubuntu jammy InRelease' does not seem to provide it (sources.list entry misspelt?)\n",
            "Reading package lists...\n",
            "Building dependency tree...\n",
            "Reading state information...\n",
            "openjdk-21-jdk is already the newest version (21.0.8+9~us1-0ubuntu1~22.04.1).\n",
            "0 upgraded, 0 newly installed, 0 to remove and 38 not upgraded.\n",
            "openjdk version \"21.0.8\" 2025-07-15\n",
            "OpenJDK Runtime Environment (build 21.0.8+9-Ubuntu-0ubuntu122.04.1)\n",
            "OpenJDK 64-Bit Server VM (build 21.0.8+9-Ubuntu-0ubuntu122.04.1, mixed mode, sharing)\n"
          ]
        }
      ],
      "source": [
        "# 1. Instala o Java 21\n",
        "!sudo apt-get update -y --quiet\n",
        "!sudo apt-get install openjdk-21-jdk -y --quiet\n",
        "\n",
        "# 2. Define o Java 21 como a versão padrão\n",
        "!sudo update-alternatives --set java /usr/lib/jvm/java-21-openjdk-amd64/bin/java --quiet\n",
        "\n",
        "# 3. Verifica a versão (deve mostrar \"21.x.x\")\n",
        "!java -version"
      ]
    },
    {
      "cell_type": "code",
      "execution_count": null,
      "metadata": {
        "colab": {
          "base_uri": "https://localhost:8080/"
        },
        "id": "dv9SPvKDvR87",
        "outputId": "18c8c1eb-605e-47ba-f2b0-947c85800c2b"
      },
      "outputs": [
        {
          "name": "stdout",
          "output_type": "stream",
          "text": [
            "fatal: destination path 'trec_eval' already exists and is not an empty directory.\n",
            "/content/beir/trec_eval\n",
            "make: 'trec_eval' is up to date.\n"
          ]
        }
      ],
      "source": [
        "# # 1. Clona o repositório oficial do trec_eval\n",
        "!git clone https://github.com/usnistgov/trec_eval.git\n",
        "\n",
        "# # 2. Entra no diretório e compila o programa (usando 'make')\n",
        "%cd trec_eval\n",
        "!make\n",
        "\n",
        "# # 3. Copia o programa compilado para um local onde o sistema o encontre\n",
        "!sudo cp trec_eval /usr/local/bin/"
      ]
    },
    {
      "cell_type": "code",
      "execution_count": null,
      "metadata": {
        "colab": {
          "base_uri": "https://localhost:8080/"
        },
        "id": "CvgVwKu80LLd",
        "outputId": "98a9a94f-a389-4bab-ca59-3830b409e1a0"
      },
      "outputs": [
        {
          "name": "stdout",
          "output_type": "stream",
          "text": [
            "/content/beir\n",
            "/content/beir\n"
          ]
        }
      ],
      "source": [
        "%cd ..\n",
        "!pwd"
      ]
    },
    {
      "cell_type": "code",
      "execution_count": null,
      "metadata": {
        "colab": {
          "base_uri": "https://localhost:8080/"
        },
        "collapsed": true,
        "id": "zChrN1RLF3b4",
        "outputId": "03d85b5d-8a8f-4a4a-b596-32a787180cdc"
      },
      "outputs": [
        {
          "name": "stdout",
          "output_type": "stream",
          "text": [
            "  Installing build dependencies ... \u001b[?25l\u001b[?25hdone\n",
            "  Checking if build backend supports build_editable ... \u001b[?25l\u001b[?25hdone\n",
            "  Getting requirements to build editable ... \u001b[?25l\u001b[?25hdone\n",
            "  Preparing editable metadata (pyproject.toml) ... \u001b[?25l\u001b[?25hdone\n",
            "  Building editable for beir (pyproject.toml) ... \u001b[?25l\u001b[?25hdone\n"
          ]
        }
      ],
      "source": [
        "!pip install -e . --quiet"
      ]
    },
    {
      "cell_type": "markdown",
      "metadata": {
        "id": "4SZo5YLUHk4Q"
      },
      "source": [
        "## Verificando os exemplos"
      ]
    },
    {
      "cell_type": "markdown",
      "metadata": {
        "id": "K6zOlDF8YmRB"
      },
      "source": [
        "Exemplo com uma busca densa"
      ]
    },
    {
      "cell_type": "code",
      "execution_count": null,
      "metadata": {
        "colab": {
          "background_save": true,
          "base_uri": "https://localhost:8080/"
        },
        "id": "GwfW8GpmZwMO",
        "outputId": "4daf1a61-3fda-4bcf-9fcc-ff934ea9d4f1"
      },
      "outputs": [
        {
          "name": "stdout",
          "output_type": "stream",
          "text": [
            "2025-10-27 20:37:18.272576: E external/local_xla/xla/stream_executor/cuda/cuda_fft.cc:467] Unable to register cuFFT factory: Attempting to register factory for plugin cuFFT when one has already been registered\n",
            "WARNING: All log messages before absl::InitializeLog() is called are written to STDERR\n",
            "E0000 00:00:1761597438.287465    2569 cuda_dnn.cc:8579] Unable to register cuDNN factory: Attempting to register factory for plugin cuDNN when one has already been registered\n",
            "E0000 00:00:1761597438.291636    2569 cuda_blas.cc:1407] Unable to register cuBLAS factory: Attempting to register factory for plugin cuBLAS when one has already been registered\n",
            "W0000 00:00:1761597438.303060    2569 computation_placer.cc:177] computation placer already registered. Please check linkage and avoid linking the same target more than once.\n",
            "W0000 00:00:1761597438.303111    2569 computation_placer.cc:177] computation placer already registered. Please check linkage and avoid linking the same target more than once.\n",
            "W0000 00:00:1761597438.303115    2569 computation_placer.cc:177] computation placer already registered. Please check linkage and avoid linking the same target more than once.\n",
            "W0000 00:00:1761597438.303118    2569 computation_placer.cc:177] computation placer already registered. Please check linkage and avoid linking the same target more than once.\n",
            "2025-10-27 20:37:18.306684: I tensorflow/core/platform/cpu_feature_guard.cc:210] This TensorFlow binary is optimized to use available CPU instructions in performance-critical operations.\n",
            "To enable the following instructions: AVX2 FMA, in other operations, rebuild TensorFlow with the appropriate compiler flags.\n",
            "/content/beir/examples/retrieval/evaluation/dense/datasets/nfcorpus.zip: 100% 2.34M/2.34M [00:00<00:00, 4.07MiB/s]\n",
            "100% 3633/3633 [00:00<00:00, 157564.51it/s]\n",
            "modules.json: 100% 461/461 [00:00<00:00, 2.89MB/s]\n",
            "config_sentence_transformers.json: 100% 122/122 [00:00<00:00, 718kB/s]\n",
            "README.md: 1.67kB [00:00, 2.90MB/s]\n",
            "sentence_bert_config.json: 100% 52.0/52.0 [00:00<00:00, 310kB/s]\n",
            "config.json: 100% 787/787 [00:00<00:00, 4.14MB/s]\n",
            "model.safetensors: 100% 499M/499M [00:11<00:00, 42.5MB/s]\n",
            "tokenizer_config.json: 1.21kB [00:00, 5.77MB/s]\n",
            "vocab.json: 798kB [00:00, 20.0MB/s]\n",
            "merges.txt: 456kB [00:00, 97.4MB/s]\n",
            "tokenizer.json: 1.36MB [00:00, 93.5MB/s]\n",
            "special_tokens_map.json: 100% 239/239 [00:00<00:00, 1.28MB/s]\n",
            "config.json: 100% 190/190 [00:00<00:00, 99.2kB/s]\n",
            "config.json: 100% 114/114 [00:00<00:00, 523kB/s]\n",
            "2_Dense/model.safetensors: 100% 2.36M/2.36M [00:00<00:00, 3.25MB/s]\n",
            "config.json: 100% 22.0/22.0 [00:00<00:00, 111kB/s]\n",
            "model.safetensors: 100% 6.33k/6.33k [00:00<00:00, 28.9MB/s]\n",
            "Batches: 100% 3/3 [00:10<00:00,  3.65s/it]\n",
            "Batches: 100% 29/29 [1:08:25<00:00, 141.58s/it]\n"
          ]
        }
      ],
      "source": [
        "!python /content/beir/examples/retrieval/evaluation/dense/evaluate_ance.py"
      ]
    },
    {
      "cell_type": "markdown",
      "metadata": {
        "id": "p2cBkVPBfIRe"
      },
      "source": [
        "## Utilizando o pyserini"
      ]
    },
    {
      "cell_type": "code",
      "execution_count": null,
      "metadata": {
        "colab": {
          "background_save": true,
          "base_uri": "https://localhost:8080/"
        },
        "id": "Rrn0jtCd0-56",
        "outputId": "7625c514-72e8-4578-d9b4-89828417f80d"
      },
      "outputs": [
        {
          "name": "stdout",
          "output_type": "stream",
          "text": [
            "Caminho do gabarito encontrado: /root/.cache/pyserini/topics-and-qrels/qrels.beir-v1.0.0-trec-covid.test.txt\n",
            "env: QRELS_PATH=/root/.cache/pyserini/topics-and-qrels/qrels.beir-v1.0.0-trec-covid.test.txt\n"
          ]
        }
      ],
      "source": [
        "from pyserini.search import get_qrels_file\n",
        "\n",
        "# Isso vai encontrar o arquivo de gabarito (qrels) no cache do Pyserini\n",
        "qrels_path = get_qrels_file('beir-v1.0.0-trec-covid-test')\n",
        "\n",
        "print(f\"Caminho do gabarito encontrado: {qrels_path}\")\n",
        "\n",
        "# Salva o caminho em uma variável de ambiente para usarmos no terminal\n",
        "%env QRELS_PATH={qrels_path}"
      ]
    },
    {
      "cell_type": "markdown",
      "metadata": {
        "id": "ofLTMs0Tiawb"
      },
      "source": [
        "Léxica - BM25 flat"
      ]
    },
    {
      "cell_type": "code",
      "execution_count": null,
      "metadata": {
        "colab": {
          "background_save": true,
          "base_uri": "https://localhost:8080/"
        },
        "collapsed": true,
        "id": "p0m53xy7fKLj",
        "outputId": "a6bc38d0-1ee8-444a-a399-676b44de7236"
      },
      "outputs": [
        {
          "name": "stdout",
          "output_type": "stream",
          "text": [
            "WARNING: Using incubator modules: jdk.incubator.vector\n",
            "2025-10-27 21:46:41.391305: E external/local_xla/xla/stream_executor/cuda/cuda_fft.cc:467] Unable to register cuFFT factory: Attempting to register factory for plugin cuFFT when one has already been registered\n",
            "WARNING: All log messages before absl::InitializeLog() is called are written to STDERR\n",
            "E0000 00:00:1761601601.425166   19235 cuda_dnn.cc:8579] Unable to register cuDNN factory: Attempting to register factory for plugin cuDNN when one has already been registered\n",
            "E0000 00:00:1761601601.434301   19235 cuda_blas.cc:1407] Unable to register cuBLAS factory: Attempting to register factory for plugin cuBLAS when one has already been registered\n",
            "W0000 00:00:1761601601.467725   19235 computation_placer.cc:177] computation placer already registered. Please check linkage and avoid linking the same target more than once.\n",
            "W0000 00:00:1761601601.467807   19235 computation_placer.cc:177] computation placer already registered. Please check linkage and avoid linking the same target more than once.\n",
            "W0000 00:00:1761601601.467816   19235 computation_placer.cc:177] computation placer already registered. Please check linkage and avoid linking the same target more than once.\n",
            "W0000 00:00:1761601601.467825   19235 computation_placer.cc:177] computation placer already registered. Please check linkage and avoid linking the same target more than once.\n",
            "2025-10-27 21:46:41.477426: I tensorflow/core/platform/cpu_feature_guard.cc:210] This TensorFlow binary is optimized to use available CPU instructions in performance-critical operations.\n",
            "To enable the following instructions: AVX2 FMA, in other operations, rebuild TensorFlow with the appropriate compiler flags.\n",
            "2025-10-27 21:46:49,355 INFO  [main] topicreader.TopicReader (TopicReader.java:229) - Downloading topics from https://raw.githubusercontent.com/castorini/anserini-tools/master/topics-and-qrels/topics.beir-v1.0.0-trec-covid.test.tsv.gz\n",
            "Downloading index at https://huggingface.co/datasets/castorini/prebuilt-indexes-beir/resolve/main/lucene-inverted/flat/lucene-inverted.beir-v1.0.0-trec-covid.flat.20221116.505594.tar.gz...\n",
            "lucene-inverted.beir-v1.0.0-trec-covid.flat.20221116.505594.tar.gz: 100% 216M/216M [00:02<00:00, 91.7MB/s]\n",
            "Oct 27, 2025 9:46:58 PM org.apache.lucene.store.MemorySegmentIndexInputProvider <init>\n",
            "INFO: Using MemorySegmentIndexInput with Java 21; to disable start with -Dorg.apache.lucene.store.MMapDirectory.enableMemorySegments=false\n",
            "Running beir-v1.0.0-trec-covid-test topics, saving to run.beir.bm25-flat.trec-covid.txt...\n",
            "100% 50/50 [00:06<00:00,  7.23it/s]\n"
          ]
        }
      ],
      "source": [
        "!python -m pyserini.search.lucene \\\n",
        "  --threads 16 --batch-size 128 \\\n",
        "  --index beir-v1.0.0-trec-covid.flat \\\n",
        "  --topics beir-v1.0.0-trec-covid-test \\\n",
        "  --output run.beir.bm25-flat.trec-covid.txt \\\n",
        "  --output-format trec \\\n",
        "  --hits 1000 --bm25 --remove-query"
      ]
    },
    {
      "cell_type": "code",
      "execution_count": null,
      "metadata": {
        "colab": {
          "background_save": true,
          "base_uri": "https://localhost:8080/"
        },
        "id": "anKrpxVi1m2r",
        "outputId": "2756cd1b-ad73-4144-977b-7748be39dd11"
      },
      "outputs": [
        {
          "name": "stdout",
          "output_type": "stream",
          "text": [
            "ndcg_cut_10           \tall\t0.5947\n"
          ]
        }
      ],
      "source": [
        "!trec_eval -c -m ndcg_cut.10 $QRELS_PATH run.beir.bm25-flat.trec-covid.txt"
      ]
    },
    {
      "cell_type": "code",
      "execution_count": null,
      "metadata": {
        "colab": {
          "background_save": true,
          "base_uri": "https://localhost:8080/"
        },
        "id": "tJpm67yD1Tr5",
        "outputId": "03dd8f49-1638-4127-a7ec-3432acbf3c42"
      },
      "outputs": [
        {
          "name": "stdout",
          "output_type": "stream",
          "text": [
            "recall_100            \tall\t0.1091\n"
          ]
        }
      ],
      "source": [
        "!trec_eval -c -m recall.100 $QRELS_PATH run.beir.bm25-flat.trec-covid.txt"
      ]
    },
    {
      "cell_type": "markdown",
      "metadata": {
        "id": "sDmzLiH2pEkC"
      },
      "source": [
        "Densa - Contriever"
      ]
    },
    {
      "cell_type": "code",
      "execution_count": null,
      "metadata": {
        "colab": {
          "background_save": true,
          "base_uri": "https://localhost:8080/"
        },
        "id": "1eW4lBf-pFnf",
        "outputId": "6d42c42a-f4c6-4a13-f7d8-65d781a56deb"
      },
      "outputs": [
        {
          "name": "stdout",
          "output_type": "stream",
          "text": [
            "WARNING: Using incubator modules: jdk.incubator.vector\n",
            "2025-10-27 21:47:16.214249: E external/local_xla/xla/stream_executor/cuda/cuda_fft.cc:467] Unable to register cuFFT factory: Attempting to register factory for plugin cuFFT when one has already been registered\n",
            "WARNING: All log messages before absl::InitializeLog() is called are written to STDERR\n",
            "E0000 00:00:1761601636.239088   19435 cuda_dnn.cc:8579] Unable to register cuDNN factory: Attempting to register factory for plugin cuDNN when one has already been registered\n",
            "E0000 00:00:1761601636.246071   19435 cuda_blas.cc:1407] Unable to register cuBLAS factory: Attempting to register factory for plugin cuBLAS when one has already been registered\n",
            "W0000 00:00:1761601636.263573   19435 computation_placer.cc:177] computation placer already registered. Please check linkage and avoid linking the same target more than once.\n",
            "W0000 00:00:1761601636.263633   19435 computation_placer.cc:177] computation placer already registered. Please check linkage and avoid linking the same target more than once.\n",
            "W0000 00:00:1761601636.263640   19435 computation_placer.cc:177] computation placer already registered. Please check linkage and avoid linking the same target more than once.\n",
            "W0000 00:00:1761601636.263646   19435 computation_placer.cc:177] computation placer already registered. Please check linkage and avoid linking the same target more than once.\n",
            "2025-10-27 21:47:16.269023: I tensorflow/core/platform/cpu_feature_guard.cc:210] This TensorFlow binary is optimized to use available CPU instructions in performance-critical operations.\n",
            "To enable the following instructions: AVX2 FMA, in other operations, rebuild TensorFlow with the appropriate compiler flags.\n",
            "config.json: 100% 619/619 [00:00<00:00, 3.91MB/s]\n",
            "pytorch_model.bin: 100% 438M/438M [00:06<00:00, 72.1MB/s]\n",
            "model.safetensors:   0% 0.00/438M [00:00<?, ?B/s]\n",
            "tokenizer_config.json: 100% 321/321 [00:00<00:00, 1.78MB/s]\n",
            "model.safetensors:   0% 12.8k/438M [00:00<6:51:23, 17.7kB/s]\n",
            "vocab.txt: 232kB [00:00, 9.03MB/s]\n",
            "\n",
            "tokenizer.json: 466kB [00:00, 27.8MB/s]\n",
            "\n",
            "special_tokens_map.json: 100% 112/112 [00:00<00:00, 419kB/s]\n",
            "model.safetensors:   8% 35.6M/438M [00:01<00:13, 29.5MB/s]  Attempting to initialize prebuilt index beir-v1.0.0-trec-covid.contriever-msmarco.\n",
            "Downloading index at https://rgw.cs.uwaterloo.ca/pyserini/indexes/faiss/faiss-flat.beir-v1.0.0-trec-covid.contriever-msmarco.20230124.tar.gz...\n",
            "\n",
            "faiss-flat.beir-v1.0.0-trec-covid.contriever-msmarco.20230124.tar.gz: 0.00B [00:00, ?B/s]\u001b[A\n",
            "faiss-flat.beir-v1.0.0-trec-covid.contriever-msmarco.20230124.tar.gz:   0% 4.00k/465M [00:00<10:19:13, 13.1kB/s]\u001b[A\n",
            "faiss-flat.beir-v1.0.0-trec-covid.contriever-msmarco.20230124.tar.gz:   0% 164k/465M [00:00<16:15, 500kB/s]     \u001b[A\n",
            "faiss-flat.beir-v1.0.0-trec-covid.contriever-msmarco.20230124.tar.gz:   0% 1.25M/465M [00:00<02:10, 3.72MB/s]\u001b[A\n",
            "faiss-flat.beir-v1.0.0-trec-covid.contriever-msmarco.20230124.tar.gz:   2% 7.19M/465M [00:00<00:23, 20.4MB/s]\u001b[A\n",
            "faiss-flat.beir-v1.0.0-trec-covid.contriever-msmarco.20230124.tar.gz:   3% 12.9M/465M [00:00<00:17, 27.3MB/s]\u001b[A\n",
            "faiss-flat.beir-v1.0.0-trec-covid.contriever-msmarco.20230124.tar.gz:   3% 13.1M/465M [00:00<00:23, 20.5MB/s]\u001b[A\n",
            "faiss-flat.beir-v1.0.0-trec-covid.contriever-msmarco.20230124.tar.gz:   3% 13.3M/465M [00:01<00:30, 15.5MB/s]\u001b[A\n",
            "faiss-flat.beir-v1.0.0-trec-covid.contriever-msmarco.20230124.tar.gz:   3% 13.4M/465M [00:01<00:40, 11.6MB/s]\u001b[A\n",
            "faiss-flat.beir-v1.0.0-trec-covid.contriever-msmarco.20230124.tar.gz:   3% 13.6M/465M [00:01<00:53, 8.83MB/s]\u001b[A\n",
            "faiss-flat.beir-v1.0.0-trec-covid.contriever-msmarco.20230124.tar.gz:   3% 13.8M/465M [00:01<01:09, 6.81MB/s]\u001b[A\n",
            "faiss-flat.beir-v1.0.0-trec-covid.contriever-msmarco.20230124.tar.gz:   3% 14.0M/465M [00:01<01:27, 5.42MB/s]\u001b[A\n",
            "faiss-flat.beir-v1.0.0-trec-covid.contriever-msmarco.20230124.tar.gz:   3% 14.2M/465M [00:01<01:47, 4.39MB/s]\u001b[A\n",
            "faiss-flat.beir-v1.0.0-trec-covid.contriever-msmarco.20230124.tar.gz:   3% 14.4M/465M [00:01<02:08, 3.67MB/s]\u001b[A\n",
            "faiss-flat.beir-v1.0.0-trec-covid.contriever-msmarco.20230124.tar.gz:   3% 14.5M/465M [00:01<02:49, 2.79MB/s]\u001b[A\n",
            "faiss-flat.beir-v1.0.0-trec-covid.contriever-msmarco.20230124.tar.gz:   3% 14.7M/465M [00:01<03:07, 2.52MB/s]\u001b[A\n",
            "faiss-flat.beir-v1.0.0-trec-covid.contriever-msmarco.20230124.tar.gz:   3% 14.9M/465M [00:01<03:21, 2.34MB/s]\u001b[A\n",
            "faiss-flat.beir-v1.0.0-trec-covid.contriever-msmarco.20230124.tar.gz:   3% 15.1M/465M [00:02<03:43, 2.12MB/s]\u001b[A\n",
            "faiss-flat.beir-v1.0.0-trec-covid.contriever-msmarco.20230124.tar.gz:   3% 15.2M/465M [00:02<03:48, 2.06MB/s]\u001b[A\n",
            "faiss-flat.beir-v1.0.0-trec-covid.contriever-msmarco.20230124.tar.gz:   3% 15.4M/465M [00:02<03:52, 2.03MB/s]\u001b[A\n",
            "faiss-flat.beir-v1.0.0-trec-covid.contriever-msmarco.20230124.tar.gz:   3% 15.6M/465M [00:02<03:59, 1.97MB/s]\u001b[A\n",
            "faiss-flat.beir-v1.0.0-trec-covid.contriever-msmarco.20230124.tar.gz:   3% 15.8M/465M [00:02<04:00, 1.96MB/s]\u001b[A\n",
            "faiss-flat.beir-v1.0.0-trec-covid.contriever-msmarco.20230124.tar.gz:   3% 16.0M/465M [00:02<04:07, 1.91MB/s]\u001b[A\n",
            "faiss-flat.beir-v1.0.0-trec-covid.contriever-msmarco.20230124.tar.gz:   3% 16.1M/465M [00:02<04:05, 1.92MB/s]\u001b[A\n",
            "faiss-flat.beir-v1.0.0-trec-covid.contriever-msmarco.20230124.tar.gz:   4% 16.3M/465M [00:02<04:06, 1.91MB/s]\u001b[A\n",
            "faiss-flat.beir-v1.0.0-trec-covid.contriever-msmarco.20230124.tar.gz:   4% 16.5M/465M [00:02<04:05, 1.92MB/s]\u001b[A\n",
            "faiss-flat.beir-v1.0.0-trec-covid.contriever-msmarco.20230124.tar.gz:   4% 16.7M/465M [00:02<04:09, 1.89MB/s]\u001b[A\n",
            "faiss-flat.beir-v1.0.0-trec-covid.contriever-msmarco.20230124.tar.gz:   4% 18.7M/465M [00:03<01:00, 7.69MB/s]\u001b[A\n",
            "model.safetensors:  23% 103M/438M [00:04<00:14, 22.8MB/s] \n",
            "model.safetensors:  39% 170M/438M [00:04<00:06, 44.5MB/s]\n",
            "faiss-flat.beir-v1.0.0-trec-covid.contriever-msmarco.20230124.tar.gz:   8% 38.2M/465M [00:03<00:09, 47.8MB/s]\u001b[A\n",
            "faiss-flat.beir-v1.0.0-trec-covid.contriever-msmarco.20230124.tar.gz:   9% 42.2M/465M [00:03<00:09, 46.2MB/s]\u001b[A\n",
            "faiss-flat.beir-v1.0.0-trec-covid.contriever-msmarco.20230124.tar.gz:  11% 49.4M/465M [00:03<00:07, 54.7MB/s]\u001b[A\n",
            "faiss-flat.beir-v1.0.0-trec-covid.contriever-msmarco.20230124.tar.gz:  12% 54.1M/465M [00:03<00:08, 53.2MB/s]\u001b[A\n",
            "faiss-flat.beir-v1.0.0-trec-covid.contriever-msmarco.20230124.tar.gz:  13% 59.7M/465M [00:03<00:07, 54.8MB/s]\u001b[A\n",
            "faiss-flat.beir-v1.0.0-trec-covid.contriever-msmarco.20230124.tar.gz:  14% 64.2M/465M [00:03<00:08, 52.3MB/s]\u001b[A\n",
            "faiss-flat.beir-v1.0.0-trec-covid.contriever-msmarco.20230124.tar.gz:  15% 67.7M/465M [00:03<00:08, 47.5MB/s]\u001b[A\n",
            "faiss-flat.beir-v1.0.0-trec-covid.contriever-msmarco.20230124.tar.gz:  16% 75.1M/465M [00:04<00:07, 56.3MB/s]\u001b[A\n",
            "faiss-flat.beir-v1.0.0-trec-covid.contriever-msmarco.20230124.tar.gz:  18% 82.0M/465M [00:04<00:06, 61.0MB/s]\u001b[A\n",
            "faiss-flat.beir-v1.0.0-trec-covid.contriever-msmarco.20230124.tar.gz:  18% 85.4M/465M [00:04<00:07, 52.9MB/s]\u001b[A\n",
            "model.safetensors:  54% 237M/438M [00:05<00:03, 50.5MB/s]\n",
            "faiss-flat.beir-v1.0.0-trec-covid.contriever-msmarco.20230124.tar.gz:  21% 97.1M/465M [00:04<00:06, 57.1MB/s]\u001b[A\n",
            "faiss-flat.beir-v1.0.0-trec-covid.contriever-msmarco.20230124.tar.gz:  21% 99.5M/465M [00:04<00:08, 47.5MB/s]\u001b[A\n",
            "faiss-flat.beir-v1.0.0-trec-covid.contriever-msmarco.20230124.tar.gz:  22% 102M/465M [00:04<00:09, 41.9MB/s] \u001b[A\n",
            "faiss-flat.beir-v1.0.0-trec-covid.contriever-msmarco.20230124.tar.gz:  23% 105M/465M [00:04<00:10, 37.2MB/s]\u001b[A\n",
            "faiss-flat.beir-v1.0.0-trec-covid.contriever-msmarco.20230124.tar.gz:  23% 108M/465M [00:04<00:10, 35.8MB/s]\u001b[A\n",
            "model.safetensors:  69% 304M/438M [00:06<00:02, 63.0MB/s]\n",
            "faiss-flat.beir-v1.0.0-trec-covid.contriever-msmarco.20230124.tar.gz:  25% 114M/465M [00:05<00:10, 34.4MB/s]\u001b[A\n",
            "faiss-flat.beir-v1.0.0-trec-covid.contriever-msmarco.20230124.tar.gz:  25% 117M/465M [00:05<00:11, 32.7MB/s]\u001b[A\n",
            "faiss-flat.beir-v1.0.0-trec-covid.contriever-msmarco.20230124.tar.gz:  26% 121M/465M [00:05<00:10, 34.6MB/s]\u001b[A\n",
            "faiss-flat.beir-v1.0.0-trec-covid.contriever-msmarco.20230124.tar.gz:  27% 124M/465M [00:05<00:10, 33.7MB/s]\u001b[A\n",
            "faiss-flat.beir-v1.0.0-trec-covid.contriever-msmarco.20230124.tar.gz:  28% 128M/465M [00:05<00:09, 37.0MB/s]\u001b[A\n",
            "faiss-flat.beir-v1.0.0-trec-covid.contriever-msmarco.20230124.tar.gz:  29% 134M/465M [00:05<00:07, 44.6MB/s]\u001b[A\n",
            "model.safetensors:  85% 371M/438M [00:07<00:00, 70.6MB/s]\n",
            "faiss-flat.beir-v1.0.0-trec-covid.contriever-msmarco.20230124.tar.gz:  32% 148M/465M [00:05<00:05, 57.9MB/s]\u001b[A\n",
            "faiss-flat.beir-v1.0.0-trec-covid.contriever-msmarco.20230124.tar.gz:  33% 155M/465M [00:05<00:05, 63.8MB/s]\u001b[A\n",
            "faiss-flat.beir-v1.0.0-trec-covid.contriever-msmarco.20230124.tar.gz:  35% 161M/465M [00:05<00:05, 62.8MB/s]\u001b[A\n",
            "model.safetensors: 100% 438M/438M [00:07<00:00, 58.0MB/s]\n",
            "\n",
            "faiss-flat.beir-v1.0.0-trec-covid.contriever-msmarco.20230124.tar.gz:  38% 177M/465M [00:06<00:04, 72.5MB/s]\u001b[A\n",
            "faiss-flat.beir-v1.0.0-trec-covid.contriever-msmarco.20230124.tar.gz:  40% 186M/465M [00:06<00:03, 80.1MB/s]\u001b[A\n",
            "faiss-flat.beir-v1.0.0-trec-covid.contriever-msmarco.20230124.tar.gz:  42% 195M/465M [00:06<00:03, 83.1MB/s]\u001b[A\n",
            "faiss-flat.beir-v1.0.0-trec-covid.contriever-msmarco.20230124.tar.gz:  44% 204M/465M [00:06<00:03, 86.6MB/s]\u001b[A\n",
            "faiss-flat.beir-v1.0.0-trec-covid.contriever-msmarco.20230124.tar.gz:  46% 212M/465M [00:06<00:03, 88.2MB/s]\u001b[A\n",
            "faiss-flat.beir-v1.0.0-trec-covid.contriever-msmarco.20230124.tar.gz:  47% 220M/465M [00:06<00:03, 83.9MB/s]\u001b[A\n",
            "faiss-flat.beir-v1.0.0-trec-covid.contriever-msmarco.20230124.tar.gz:  49% 228M/465M [00:06<00:02, 83.9MB/s]\u001b[A\n",
            "faiss-flat.beir-v1.0.0-trec-covid.contriever-msmarco.20230124.tar.gz:  51% 237M/465M [00:06<00:02, 84.6MB/s]\u001b[A\n",
            "faiss-flat.beir-v1.0.0-trec-covid.contriever-msmarco.20230124.tar.gz:  53% 246M/465M [00:07<00:02, 86.8MB/s]\u001b[A\n",
            "faiss-flat.beir-v1.0.0-trec-covid.contriever-msmarco.20230124.tar.gz:  55% 255M/465M [00:07<00:02, 88.1MB/s]\u001b[A\n",
            "faiss-flat.beir-v1.0.0-trec-covid.contriever-msmarco.20230124.tar.gz:  56% 262M/465M [00:07<00:02, 83.9MB/s]\u001b[A\n",
            "faiss-flat.beir-v1.0.0-trec-covid.contriever-msmarco.20230124.tar.gz:  58% 271M/465M [00:07<00:02, 84.1MB/s]\u001b[A\n",
            "faiss-flat.beir-v1.0.0-trec-covid.contriever-msmarco.20230124.tar.gz:  60% 280M/465M [00:07<00:02, 84.6MB/s]\u001b[A\n",
            "faiss-flat.beir-v1.0.0-trec-covid.contriever-msmarco.20230124.tar.gz:  62% 289M/465M [00:07<00:02, 84.9MB/s]\u001b[A\n",
            "faiss-flat.beir-v1.0.0-trec-covid.contriever-msmarco.20230124.tar.gz:  64% 298M/465M [00:07<00:02, 85.0MB/s]\u001b[A\n",
            "faiss-flat.beir-v1.0.0-trec-covid.contriever-msmarco.20230124.tar.gz:  66% 308M/465M [00:07<00:01, 85.3MB/s]\u001b[A\n",
            "faiss-flat.beir-v1.0.0-trec-covid.contriever-msmarco.20230124.tar.gz:  68% 317M/465M [00:07<00:01, 88.6MB/s]\u001b[A\n",
            "faiss-flat.beir-v1.0.0-trec-covid.contriever-msmarco.20230124.tar.gz:  70% 324M/465M [00:07<00:01, 84.1MB/s]\u001b[A\n",
            "faiss-flat.beir-v1.0.0-trec-covid.contriever-msmarco.20230124.tar.gz:  72% 334M/465M [00:08<00:01, 84.4MB/s]\u001b[A\n",
            "faiss-flat.beir-v1.0.0-trec-covid.contriever-msmarco.20230124.tar.gz:  74% 342M/465M [00:08<00:01, 82.7MB/s]\u001b[A\n",
            "faiss-flat.beir-v1.0.0-trec-covid.contriever-msmarco.20230124.tar.gz:  75% 351M/465M [00:08<00:01, 81.9MB/s]\u001b[A\n",
            "faiss-flat.beir-v1.0.0-trec-covid.contriever-msmarco.20230124.tar.gz:  77% 360M/465M [00:08<00:01, 81.9MB/s]\u001b[A\n",
            "faiss-flat.beir-v1.0.0-trec-covid.contriever-msmarco.20230124.tar.gz:  79% 368M/465M [00:08<00:01, 80.8MB/s]\u001b[A\n",
            "faiss-flat.beir-v1.0.0-trec-covid.contriever-msmarco.20230124.tar.gz:  81% 376M/465M [00:08<00:01, 79.6MB/s]\u001b[A\n",
            "faiss-flat.beir-v1.0.0-trec-covid.contriever-msmarco.20230124.tar.gz:  83% 384M/465M [00:08<00:01, 78.5MB/s]\u001b[A\n",
            "faiss-flat.beir-v1.0.0-trec-covid.contriever-msmarco.20230124.tar.gz:  84% 393M/465M [00:08<00:00, 78.4MB/s]\u001b[A\n",
            "faiss-flat.beir-v1.0.0-trec-covid.contriever-msmarco.20230124.tar.gz:  86% 401M/465M [00:08<00:00, 79.1MB/s]\u001b[A\n",
            "faiss-flat.beir-v1.0.0-trec-covid.contriever-msmarco.20230124.tar.gz:  88% 410M/465M [00:09<00:00, 79.6MB/s]\u001b[A\n",
            "faiss-flat.beir-v1.0.0-trec-covid.contriever-msmarco.20230124.tar.gz:  90% 418M/465M [00:09<00:00, 80.0MB/s]\u001b[A\n",
            "faiss-flat.beir-v1.0.0-trec-covid.contriever-msmarco.20230124.tar.gz:  91% 425M/465M [00:09<00:00, 78.3MB/s]\u001b[A\n",
            "faiss-flat.beir-v1.0.0-trec-covid.contriever-msmarco.20230124.tar.gz:  93% 433M/465M [00:09<00:00, 80.2MB/s]\u001b[A\n",
            "faiss-flat.beir-v1.0.0-trec-covid.contriever-msmarco.20230124.tar.gz:  95% 441M/465M [00:09<00:00, 79.5MB/s]\u001b[A\n",
            "faiss-flat.beir-v1.0.0-trec-covid.contriever-msmarco.20230124.tar.gz:  96% 448M/465M [00:09<00:00, 78.7MB/s]\u001b[A\n",
            "faiss-flat.beir-v1.0.0-trec-covid.contriever-msmarco.20230124.tar.gz:  98% 456M/465M [00:09<00:00, 78.0MB/s]\u001b[A\n",
            "faiss-flat.beir-v1.0.0-trec-covid.contriever-msmarco.20230124.tar.gz: 100% 465M/465M [00:09<00:00, 49.5MB/s]\n",
            "Extracting /root/.cache/pyserini/indexes/faiss-flat.beir-v1.0.0-trec-covid.contriever-msmarco.20230124.tar.gz into /root/.cache/pyserini/indexes/faiss-flat.beir-v1.0.0-trec-covid.contriever-msmarco.20230124.607174fdc964760a1d491af294fb1b91...\n",
            "Initializing beir-v1.0.0-trec-covid.contriever-msmarco...\n",
            "Oct 27, 2025 9:47:49 PM org.apache.lucene.store.MemorySegmentIndexInputProvider <init>\n",
            "INFO: Using MemorySegmentIndexInput with Java 21; to disable start with -Dorg.apache.lucene.store.MMapDirectory.enableMemorySegments=false\n",
            "Running beir-v1.0.0-trec-covid-test topics, saving to run.beir.contriever-msmarco.trec-covid.txt...\n",
            "100% 50/50 [00:06<00:00,  8.32it/s]\n"
          ]
        }
      ],
      "source": [
        "!python -m pyserini.search.faiss \\\n",
        "  --threads 16 --batch-size 512 \\\n",
        "  --encoder-class contriever --encoder facebook/contriever-msmarco \\\n",
        "  --index beir-v1.0.0-trec-covid.contriever-msmarco \\\n",
        "  --topics beir-v1.0.0-trec-covid-test \\\n",
        "  --output run.beir.contriever-msmarco.trec-covid.txt \\\n",
        "  --hits 1000 --remove-query"
      ]
    },
    {
      "cell_type": "code",
      "execution_count": null,
      "metadata": {
        "colab": {
          "background_save": true,
          "base_uri": "https://localhost:8080/"
        },
        "id": "-scu-YBtTBnk",
        "outputId": "c4da8044-a4de-43b0-bf36-497faf3a1a5a"
      },
      "outputs": [
        {
          "name": "stdout",
          "output_type": "stream",
          "text": [
            "ndcg_cut_10           \tall\t0.5964\n"
          ]
        }
      ],
      "source": [
        "!trec_eval -c -m ndcg_cut.10 $QRELS_PATH run.beir.contriever-msmarco.trec-covid.txt"
      ]
    },
    {
      "cell_type": "code",
      "execution_count": null,
      "metadata": {
        "colab": {
          "background_save": true,
          "base_uri": "https://localhost:8080/"
        },
        "id": "JlMI8mDkTCya",
        "outputId": "eaa94dc2-5553-450a-a0e9-0d95c9978f3d"
      },
      "outputs": [
        {
          "name": "stdout",
          "output_type": "stream",
          "text": [
            "recall_100            \tall\t0.0907\n"
          ]
        }
      ],
      "source": [
        "!trec_eval -c -m recall.100 $QRELS_PATH run.beir.contriever-msmarco.trec-covid.txt"
      ]
    },
    {
      "cell_type": "markdown",
      "metadata": {
        "id": "Clc1lbtspPrH"
      },
      "source": [
        "Esparsa - Slade\n"
      ]
    },
    {
      "cell_type": "code",
      "execution_count": null,
      "metadata": {
        "colab": {
          "background_save": true,
          "base_uri": "https://localhost:8080/"
        },
        "id": "yUtXI_xxpQs8",
        "outputId": "39609f55-bd97-4c1c-91cb-d2da9f71ebba"
      },
      "outputs": [
        {
          "name": "stdout",
          "output_type": "stream",
          "text": [
            "WARNING: Using incubator modules: jdk.incubator.vector\n",
            "2025-10-27 21:48:06.222632: E external/local_xla/xla/stream_executor/cuda/cuda_fft.cc:467] Unable to register cuFFT factory: Attempting to register factory for plugin cuFFT when one has already been registered\n",
            "WARNING: All log messages before absl::InitializeLog() is called are written to STDERR\n",
            "E0000 00:00:1761601686.238558   19692 cuda_dnn.cc:8579] Unable to register cuDNN factory: Attempting to register factory for plugin cuDNN when one has already been registered\n",
            "E0000 00:00:1761601686.243804   19692 cuda_blas.cc:1407] Unable to register cuBLAS factory: Attempting to register factory for plugin cuBLAS when one has already been registered\n",
            "W0000 00:00:1761601686.256051   19692 computation_placer.cc:177] computation placer already registered. Please check linkage and avoid linking the same target more than once.\n",
            "W0000 00:00:1761601686.256101   19692 computation_placer.cc:177] computation placer already registered. Please check linkage and avoid linking the same target more than once.\n",
            "W0000 00:00:1761601686.256106   19692 computation_placer.cc:177] computation placer already registered. Please check linkage and avoid linking the same target more than once.\n",
            "W0000 00:00:1761601686.256111   19692 computation_placer.cc:177] computation placer already registered. Please check linkage and avoid linking the same target more than once.\n",
            "2025-10-27 21:48:06.260161: I tensorflow/core/platform/cpu_feature_guard.cc:210] This TensorFlow binary is optimized to use available CPU instructions in performance-critical operations.\n",
            "To enable the following instructions: AVX2 FMA, in other operations, rebuild TensorFlow with the appropriate compiler flags.\n",
            "2025-10-27 21:48:10,822 INFO  [main] topicreader.TopicReader (TopicReader.java:229) - Downloading topics from https://raw.githubusercontent.com/castorini/anserini-tools/master/topics-and-qrels/topics.beir-v1.0.0-trec-covid.test.splade-pp-ed.tsv.gz\n",
            "Attempting to initialize prebuilt index beir-v1.0.0-trec-covid.splade-pp-ed.\n",
            "Downloading index at https://huggingface.co/datasets/castorini/prebuilt-indexes-beir/resolve/main/lucene-inverted/splade-pp-ed/lucene-inverted.beir-v1.0.0-trec-covid.splade-pp-ed.20231124.a66f86f.tar.gz...\n",
            "lucene-inverted.beir-v1.0.0-trec-covid.splade-pp-ed.20231124.a66f86f.tar.gz: 100% 49.7M/49.7M [00:00<00:00, 79.5MB/s]\n",
            "Extracting /root/.cache/pyserini/indexes/lucene-inverted.beir-v1.0.0-trec-covid.splade-pp-ed.20231124.a66f86f.tar.gz into /root/.cache/pyserini/indexes/lucene-inverted.beir-v1.0.0-trec-covid.splade-pp-ed.20231124.a66f86f.e808ff9d4a1f45de9f0bc292900302b4...\n",
            "Initializing beir-v1.0.0-trec-covid.splade-pp-ed...\n",
            "Oct 27, 2025 9:48:13 PM org.apache.lucene.store.MemorySegmentIndexInputProvider <init>\n",
            "INFO: Using MemorySegmentIndexInput with Java 21; to disable start with -Dorg.apache.lucene.store.MMapDirectory.enableMemorySegments=false\n",
            "Running beir-v1.0.0-trec-covid.test.splade-pp-ed topics, saving to run.beir.splade-pp-ed.trec-covid.txt...\n",
            "100% 50/50 [00:09<00:00,  5.25it/s]\n"
          ]
        }
      ],
      "source": [
        "!python -m pyserini.search.lucene \\\n",
        "  --threads 16 --batch-size 128 \\\n",
        "  --index beir-v1.0.0-trec-covid.splade-pp-ed \\\n",
        "  --topics beir-v1.0.0-trec-covid.test.splade-pp-ed \\\n",
        "  --output run.beir.splade-pp-ed.trec-covid.txt \\\n",
        "  --output-format trec \\\n",
        "  --hits 1000 --impact --remove-query\n"
      ]
    },
    {
      "cell_type": "code",
      "execution_count": null,
      "metadata": {
        "colab": {
          "background_save": true,
          "base_uri": "https://localhost:8080/"
        },
        "id": "CwynOGQZTDLk",
        "outputId": "edc3f5ec-07b4-4ffe-95ea-f95a358ac543"
      },
      "outputs": [
        {
          "name": "stdout",
          "output_type": "stream",
          "text": [
            "ndcg_cut_10           \tall\t0.7274\n"
          ]
        }
      ],
      "source": [
        "!trec_eval -c -m ndcg_cut.10 $QRELS_PATH run.beir.splade-pp-ed.trec-covid.txt"
      ]
    },
    {
      "cell_type": "code",
      "execution_count": null,
      "metadata": {
        "colab": {
          "background_save": true,
          "base_uri": "https://localhost:8080/"
        },
        "id": "OJJIPYFyTDX9",
        "outputId": "2ec1b1f7-aa57-4459-c9b6-569d46a260d8"
      },
      "outputs": [
        {
          "name": "stdout",
          "output_type": "stream",
          "text": [
            "recall_100            \tall\t0.1282\n"
          ]
        }
      ],
      "source": [
        "!trec_eval -c -m recall.100 $QRELS_PATH run.beir.splade-pp-ed.trec-covid.txt"
      ]
    },
    {
      "cell_type": "markdown",
      "metadata": {
        "id": "Zfz2y8fZVHRZ"
      },
      "source": [
        "BGE"
      ]
    },
    {
      "cell_type": "code",
      "execution_count": null,
      "metadata": {
        "colab": {
          "background_save": true,
          "base_uri": "https://localhost:8080/"
        },
        "id": "TNG9vGDmVJuG",
        "outputId": "7c801955-62c7-4f38-9c40-692eb08482a2"
      },
      "outputs": [
        {
          "name": "stdout",
          "output_type": "stream",
          "text": [
            "WARNING: Using incubator modules: jdk.incubator.vector\n",
            "2025-10-27 21:48:34.266135: E external/local_xla/xla/stream_executor/cuda/cuda_fft.cc:467] Unable to register cuFFT factory: Attempting to register factory for plugin cuFFT when one has already been registered\n",
            "WARNING: All log messages before absl::InitializeLog() is called are written to STDERR\n",
            "E0000 00:00:1761601714.281678   19856 cuda_dnn.cc:8579] Unable to register cuDNN factory: Attempting to register factory for plugin cuDNN when one has already been registered\n",
            "E0000 00:00:1761601714.286379   19856 cuda_blas.cc:1407] Unable to register cuBLAS factory: Attempting to register factory for plugin cuBLAS when one has already been registered\n",
            "W0000 00:00:1761601714.300262   19856 computation_placer.cc:177] computation placer already registered. Please check linkage and avoid linking the same target more than once.\n",
            "W0000 00:00:1761601714.300310   19856 computation_placer.cc:177] computation placer already registered. Please check linkage and avoid linking the same target more than once.\n",
            "W0000 00:00:1761601714.300314   19856 computation_placer.cc:177] computation placer already registered. Please check linkage and avoid linking the same target more than once.\n",
            "W0000 00:00:1761601714.300319   19856 computation_placer.cc:177] computation placer already registered. Please check linkage and avoid linking the same target more than once.\n",
            "2025-10-27 21:48:34.303871: I tensorflow/core/platform/cpu_feature_guard.cc:210] This TensorFlow binary is optimized to use available CPU instructions in performance-critical operations.\n",
            "To enable the following instructions: AVX2 FMA, in other operations, rebuild TensorFlow with the appropriate compiler flags.\n",
            "config.json: 100% 777/777 [00:00<00:00, 4.44MB/s]\n",
            "model.safetensors: 100% 438M/438M [00:04<00:00, 94.7MB/s]\n",
            "tokenizer_config.json: 100% 366/366 [00:00<00:00, 731kB/s]\n",
            "vocab.txt: 232kB [00:00, 10.3MB/s]\n",
            "tokenizer.json: 711kB [00:00, 40.0MB/s]\n",
            "special_tokens_map.json: 100% 125/125 [00:00<00:00, 523kB/s]\n",
            "Attempting to initialize prebuilt index beir-v1.0.0-trec-covid.bge-base-en-v1.5.\n",
            "Downloading index at https://rgw.cs.uwaterloo.ca/pyserini/indexes/faiss/faiss-flat.beir-v1.0.0-trec-covid.bge-base-en-v1.5.20240107.tar.gz...\n",
            "faiss-flat.beir-v1.0.0-trec-covid.bge-base-en-v1.5.20240107.tar.gz: 100% 467M/467M [00:07<00:00, 61.5MB/s]\n",
            "Extracting /root/.cache/pyserini/indexes/faiss-flat.beir-v1.0.0-trec-covid.bge-base-en-v1.5.20240107.tar.gz into /root/.cache/pyserini/indexes/faiss-flat.beir-v1.0.0-trec-covid.bge-base-en-v1.5.20240107.da2d227d8ddbb97109b469f8e1473b3b...\n",
            "Initializing beir-v1.0.0-trec-covid.bge-base-en-v1.5...\n",
            "Oct 27, 2025 9:49:03 PM org.apache.lucene.store.MemorySegmentIndexInputProvider <init>\n",
            "INFO: Using MemorySegmentIndexInput with Java 21; to disable start with -Dorg.apache.lucene.store.MMapDirectory.enableMemorySegments=false\n",
            "Running beir-v1.0.0-trec-covid-test topics, saving to run.beir.bge-base-en-v1.5.faiss.trec-covid.txt...\n",
            "100% 50/50 [00:06<00:00,  7.62it/s]\n"
          ]
        }
      ],
      "source": [
        "!python -m pyserini.search.faiss \\\n",
        "  --threads 16 --batch-size 512 \\\n",
        "  --encoder-class auto --encoder BAAI/bge-base-en-v1.5 --l2-norm \\\n",
        "  --query-prefix \"Represent this sentence for searching relevant passages:\" \\\n",
        "  --index beir-v1.0.0-trec-covid.bge-base-en-v1.5 \\\n",
        "  --topics beir-v1.0.0-trec-covid-test \\\n",
        "  --output run.beir.bge-base-en-v1.5.faiss.trec-covid.txt \\\n",
        "  --hits 1000 --remove-query\n"
      ]
    },
    {
      "cell_type": "code",
      "execution_count": null,
      "metadata": {
        "colab": {
          "background_save": true,
          "base_uri": "https://localhost:8080/"
        },
        "id": "zzk6RzpBVMhc",
        "outputId": "802051d5-3d23-4708-e56a-b4d480d7fb45"
      },
      "outputs": [
        {
          "name": "stdout",
          "output_type": "stream",
          "text": [
            "ndcg_cut_10           \tall\t0.7815\n"
          ]
        }
      ],
      "source": [
        "!trec_eval -c -m ndcg_cut.10 $QRELS_PATH run.beir.bge-base-en-v1.5.faiss.trec-covid.txt"
      ]
    },
    {
      "cell_type": "code",
      "execution_count": null,
      "metadata": {
        "colab": {
          "background_save": true,
          "base_uri": "https://localhost:8080/"
        },
        "id": "VqtoN5fZVOQF",
        "outputId": "be09f47e-eadd-4453-f74e-0248f97a61ba"
      },
      "outputs": [
        {
          "name": "stdout",
          "output_type": "stream",
          "text": [
            "recall_100            \tall\t0.1406\n"
          ]
        }
      ],
      "source": [
        "!trec_eval -c -m recall.100 $QRELS_PATH run.beir.bge-base-en-v1.5.faiss.trec-covid.txt"
      ]
    },
    {
      "cell_type": "markdown",
      "metadata": {
        "id": "LpcpVw4VVTg_"
      },
      "source": [
        "Cohere"
      ]
    },
    {
      "cell_type": "code",
      "execution_count": null,
      "metadata": {
        "colab": {
          "background_save": true,
          "base_uri": "https://localhost:8080/"
        },
        "id": "m4aOdVoSVXk6",
        "outputId": "c1497ab8-f2fa-4992-ab1a-c506180d6cd7"
      },
      "outputs": [
        {
          "name": "stdout",
          "output_type": "stream",
          "text": [
            "WARNING: Using incubator modules: jdk.incubator.vector\n",
            "2025-10-27 21:49:21.214675: E external/local_xla/xla/stream_executor/cuda/cuda_fft.cc:467] Unable to register cuFFT factory: Attempting to register factory for plugin cuFFT when one has already been registered\n",
            "WARNING: All log messages before absl::InitializeLog() is called are written to STDERR\n",
            "E0000 00:00:1761601761.230375   20095 cuda_dnn.cc:8579] Unable to register cuDNN factory: Attempting to register factory for plugin cuDNN when one has already been registered\n",
            "E0000 00:00:1761601761.234901   20095 cuda_blas.cc:1407] Unable to register cuBLAS factory: Attempting to register factory for plugin cuBLAS when one has already been registered\n",
            "W0000 00:00:1761601761.246988   20095 computation_placer.cc:177] computation placer already registered. Please check linkage and avoid linking the same target more than once.\n",
            "W0000 00:00:1761601761.247039   20095 computation_placer.cc:177] computation placer already registered. Please check linkage and avoid linking the same target more than once.\n",
            "W0000 00:00:1761601761.247044   20095 computation_placer.cc:177] computation placer already registered. Please check linkage and avoid linking the same target more than once.\n",
            "W0000 00:00:1761601761.247049   20095 computation_placer.cc:177] computation placer already registered. Please check linkage and avoid linking the same target more than once.\n",
            "2025-10-27 21:49:21.250864: I tensorflow/core/platform/cpu_feature_guard.cc:210] This TensorFlow binary is optimized to use available CPU instructions in performance-critical operations.\n",
            "To enable the following instructions: AVX2 FMA, in other operations, rebuild TensorFlow with the appropriate compiler flags.\n",
            "Attempting to initialize pre-encoded queries cohere-embed-english-v3.0-beir-v1.0.0-trec-covid-test.\n",
            "Downloading index at https://github.com/castorini/pyserini-data/raw/main/encoded-queries/query-embedding-cohere-embed-english-v3.0-beir-v1.0.0-trec-covid-test-20240302-bc5b3bf.tar.gz...\n",
            "query-embedding-cohere-embed-english-v3.0-beir-v1.0.0-trec-covid-test-20240302-bc5b3bf.tar.gz: 100% 136k/136k [00:00<00:00, 387kB/s]  \n",
            "Extracting /root/.cache/pyserini/queries/query-embedding-cohere-embed-english-v3.0-beir-v1.0.0-trec-covid-test-20240302-bc5b3bf.tar.gz into /root/.cache/pyserini/queries/query-embedding-cohere-embed-english-v3.0-beir-v1.0.0-trec-covid-test-20240302-bc5b3bf.8b50f30ca7c50dbcdc6635f56fe7309c...\n",
            "Initializing cohere-embed-english-v3.0-beir-v1.0.0-trec-covid-test...\n",
            "Attempting to initialize prebuilt index beir-v1.0.0-trec-covid.cohere-embed-english-v3.0.\n",
            "Downloading index at https://rgw.cs.uwaterloo.ca/pyserini/indexes/faiss/faiss-flat.beir-v1.0.0-trec-covid.cohere-embed-english-v3.0.20240302.tar.gz...\n",
            "faiss-flat.beir-v1.0.0-trec-covid.cohere-embed-english-v3.0.20240302.tar.gz: 100% 395M/395M [00:05<00:00, 72.9MB/s]\n",
            "Extracting /root/.cache/pyserini/indexes/faiss-flat.beir-v1.0.0-trec-covid.cohere-embed-english-v3.0.20240302.tar.gz into /root/.cache/pyserini/indexes/faiss-flat.beir-v1.0.0-trec-covid.cohere-embed-english-v3.0.20240302.bd81f8e76434bac6757a177038752868...\n",
            "Initializing beir-v1.0.0-trec-covid.cohere-embed-english-v3.0...\n",
            "Oct 27, 2025 9:49:49 PM org.apache.lucene.store.MemorySegmentIndexInputProvider <init>\n",
            "INFO: Using MemorySegmentIndexInput with Java 21; to disable start with -Dorg.apache.lucene.store.MMapDirectory.enableMemorySegments=false\n",
            "Running beir-v1.0.0-trec-covid-test topics, saving to run.beir.cohere-embed-english-v3.0.trec-covid.txt...\n",
            "100% 50/50 [00:00<00:00, 94.74it/s]\n"
          ]
        }
      ],
      "source": [
        "!python -m pyserini.search.faiss \\\n",
        "  --threads 16 --batch-size 512 \\\n",
        "  --index beir-v1.0.0-trec-covid.cohere-embed-english-v3.0  \\\n",
        "  --topics beir-v1.0.0-trec-covid-test \\\n",
        "  --encoded-queries cohere-embed-english-v3.0-beir-v1.0.0-trec-covid-test \\\n",
        "  --output run.beir.cohere-embed-english-v3.0.trec-covid.txt \\\n",
        "  --hits 1000 --remove-query\n"
      ]
    },
    {
      "cell_type": "code",
      "execution_count": null,
      "metadata": {
        "colab": {
          "background_save": true,
          "base_uri": "https://localhost:8080/"
        },
        "id": "JjmQih8UVafH",
        "outputId": "8ea47742-fb86-49e3-fd8a-93a6474d02b2"
      },
      "outputs": [
        {
          "name": "stdout",
          "output_type": "stream",
          "text": [
            "ndcg_cut_10           \tall\t0.8178\n"
          ]
        }
      ],
      "source": [
        "!trec_eval -c -m ndcg_cut.10 $QRELS_PATH run.beir.cohere-embed-english-v3.0.trec-covid.txt"
      ]
    },
    {
      "cell_type": "code",
      "execution_count": null,
      "metadata": {
        "colab": {
          "background_save": true,
          "base_uri": "https://localhost:8080/"
        },
        "id": "JfzWN2HaVcHj",
        "outputId": "71d48c13-b143-489f-d1a8-7b1754e6ce97"
      },
      "outputs": [
        {
          "name": "stdout",
          "output_type": "stream",
          "text": [
            "recall_100            \tall\t0.1594\n"
          ]
        }
      ],
      "source": [
        "!trec_eval -c -m recall.100 $QRELS_PATH run.beir.cohere-embed-english-v3.0.trec-covid.txt"
      ]
    }
  ],
  "metadata": {
    "accelerator": "GPU",
    "colab": {
      "gpuType": "T4",
      "provenance": []
    },
    "kernelspec": {
      "display_name": "Python 3",
      "name": "python3"
    },
    "language_info": {
      "name": "python"
    }
  },
  "nbformat": 4,
  "nbformat_minor": 0
}